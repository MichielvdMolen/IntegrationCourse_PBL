{
 "cells": [
  {
   "cell_type": "markdown",
   "metadata": {},
   "source": [
    "### 1. Load Python modules"
   ]
  },
  {
   "cell_type": "code",
   "execution_count": null,
   "metadata": {},
   "outputs": [],
   "source": [
    "# Load necessary python packages.\n",
    "import sys\n",
    "!{sys.executable} -m pip install cufflinks > /dev/null; # Remove > /dev/null in case of errors.\n",
    "\n",
    "from ipywidgets import interact\n",
    "import numpy as np\n",
    "import matplotlib.pyplot as plt\n",
    "import pandas as pd\n",
    "import cufflinks as cf\n",
    "import plotly.express as px\n",
    "\n",
    "# (Ignore the pip version warning)"
   ]
  },
  {
   "cell_type": "markdown",
   "metadata": {},
   "source": [
    "### 2. Load input data"
   ]
  },
  {
   "cell_type": "code",
   "execution_count": null,
   "metadata": {},
   "outputs": [],
   "source": [
    "# Load the values of nitrogen NH3 concentration for three different stations (Wekerom, Vredepeel and Zegveld). \n",
    "# Data are loaded as hourly values in ug/m3.\n",
    "# N.B.: Do not try to hard to understand all of the code. We will mention which parts are important to understand.\n",
    "\n",
    "df_Wekerom = pd.read_csv('../Data_IntegrationCourseSWA/Data_AQ_Wekerom_2013-2019.csv', sep=';', \n",
    "    index_col='date-time', usecols=['date-time', 'NH3'], parse_dates=['date-time'])\n",
    "df_Wekerom.columns = ['NH3_W']\n",
    "\n",
    "df_Vredepeel = pd.read_csv('../Data_IntegrationCourseSWA/Data_AQ_Vredepeel_2013-2019.csv', sep=';', \n",
    "    index_col='date-time', usecols=['date-time', 'NH3'], parse_dates=['date-time'])\n",
    "df_Vredepeel.columns = ['NH3_V']\n",
    "\n",
    "df_Zegveld = pd.read_csv('../Data_IntegrationCourseSWA/Data_AQ_Zegveld_2013-2019.csv', sep=';', \n",
    "    index_col='date-time', usecols=['date-time', 'NH3'], parse_dates=['date-time'])\n",
    "df_Zegveld.columns = ['NH3_Z']\n",
    "\n",
    "# Save the data from Wekerom, Vredepeel and Zegveld in the same data frame.\n",
    "df_AQ = pd.concat([df_Wekerom, df_Vredepeel, df_Zegveld], axis=1, sort=False)"
   ]
  },
  {
   "cell_type": "code",
   "execution_count": null,
   "metadata": {},
   "outputs": [],
   "source": [
    "# Load the meteorological data. \n",
    "# Load the velocity (u; m/s), global radiation (Rg; W/m^2), rain (Rain; mm), rain in the last three hours \n",
    "# (Rain_last3h; mm) and leaf area index (LAI; m^2/m^2).\n",
    "df_meteo = pd.read_csv('../Data_IntegrationCourseSWA/Data_Meteo_Veenkampen_2013-2019.csv', sep=';', \n",
    "    index_col='date-time', usecols=['date-time','Rg','Ta','RH','u','P','smc_065','smc_125','smc_250','smc_500'],\n",
    "                           parse_dates=['date-time'])\n",
    "df_meteo.columns = ['Rg','Ta','RH','u','P','smc_065','smc_125','smc_250','smc_500']"
   ]
  },
  {
   "cell_type": "markdown",
   "metadata": {},
   "source": [
    "### 3. Physical constants and model parameters"
   ]
  },
  {
   "cell_type": "code",
   "execution_count": null,
   "metadata": {},
   "outputs": [],
   "source": [
    "### Constants and Parameter Settings\n",
    "#--- Collect all settings here to keep overview\n",
    "\n",
    "### Physical constants\n",
    "\n",
    "\n",
    "\n",
    "\n",
    "#### Model parameters\n",
    "# Set the constants needed for calculation of resistances for your land use type \n",
    "# in Kumar et al. (2001): https://link.springer.com/article/10.1007%2Fs10546-010-9559-z, Table 1; \n",
    "\n",
    "#--- Parameters for r_a\n",
    "k     = 0.4     # - Von Karman constant\n",
    "z     = 10.     # m Reference height\n",
    "zd    = 0.0     # m Displacement height\n",
    "z0    = 0.0001  # m Roughness length Water\n",
    "\n",
    "#--- Parameters for r_c\n",
    "rcmin = 40.0    # s/m    Minimum canopy resistance, when the stomates are fully open.\n",
    "Rgl   = 100.0   # W/m2   Sensitivity to global radiation\n",
    "LAI   = 2.0     # m2/m2  Leaf Area Index\n",
    "rcmax = 10000.  # s/m    Maximum canopy resistance, when the stomates are closed."
   ]
  },
  {
   "cell_type": "markdown",
   "metadata": {},
   "source": [
    "# 4. NH3 deposition"
   ]
  },
  {
   "cell_type": "markdown",
   "metadata": {},
   "source": [
    "### 4.1 $r_a$: Aerodynamical resistance"
   ]
  },
  {
   "cell_type": "code",
   "execution_count": null,
   "metadata": {},
   "outputs": [],
   "source": [
    "# Calculate the aerodynamical resistance. \n",
    "# 2. Calculate the aerodynamical resistance based on the formula given in section 3.1.\n",
    "ra = (np.log((z-zd)/z0))**2/(k**2*df_meteo['u'])"
   ]
  },
  {
   "cell_type": "markdown",
   "metadata": {},
   "source": [
    "### 4.2 $r_b$: Boundary layer resistance"
   ]
  },
  {
   "cell_type": "code",
   "execution_count": null,
   "metadata": {},
   "outputs": [],
   "source": [
    "rb = 5."
   ]
  },
  {
   "cell_type": "markdown",
   "metadata": {},
   "source": [
    "### 4.3 $r_c$: Canopy resistance"
   ]
  },
  {
   "cell_type": "code",
   "execution_count": null,
   "metadata": {},
   "outputs": [],
   "source": [
    "# Write the values of your chosen parameters using the land types given in Table 1 of Kumar et al, 2001.\n",
    "# Numbers should represent the values for the minimum canopy resistance (rcmin; s/m), minimum global radiation for\n",
    "# photosynthesis (Rgl; W/m^2), the leaf area index (LAI, m^2/m^2), and maximum canopy resistance (rcmax; s/m). \n",
    "# Please also take a look at the Python code, it may be useful to recognise what is being done here.\n",
    "\n",
    "\n",
    "# Calculate f and the stress function for solar radiation F1.\n",
    "f     = 0.55*(df_meteo['Rg']/Rgl)*(2./LAI)\n",
    "F1    = ((rcmin/rcmax)+f)/(1+f)\n",
    "\n",
    "# Calculate the canopy resistance in s/m based on the formula given in the markdown-box above.\n",
    "rc    = rcmin/(LAI*F1)  # s/m Hourly canopy resistance, computed from the parameters supplied above."
   ]
  },
  {
   "cell_type": "markdown",
   "metadata": {},
   "source": [
    "### 4.4 $r_t$: Total resistance\n",
    "\n",
    "N.B.: Water surfaces do not have stomates and their $r_c$ = 0 s/m. Make sure you edit the following lines accordingly by setting rc = 0.0 or $r_t$ = $r_a$ + $r_b$"
   ]
  },
  {
   "cell_type": "code",
   "execution_count": null,
   "metadata": {},
   "outputs": [],
   "source": [
    "###\n",
    "rt = ra + rb + rc"
   ]
  },
  {
   "cell_type": "markdown",
   "metadata": {},
   "source": [
    "### 4.5 $F_{NH_3}$: Ammonia deposition flux"
   ]
  },
  {
   "cell_type": "code",
   "execution_count": null,
   "metadata": {},
   "outputs": [],
   "source": [
    "# Calculate the dry deposition rate (F_NH3; ug/m^2/s) using a gradient-resistance model for all three stations,\n",
    "# i.e., for Wekerom, Vredepeel and Zegveld.\n",
    "F_NH3_W = df_AQ['NH3_W']/rt\n",
    "F_NH3_W.columns = ['F_NH3_W']\n",
    "\n",
    "F_NH3_V = df_AQ['NH3_V']/rt\n",
    "F_NH3_V.columns = ['F_NH3_V']\n",
    "\n",
    "F_NH3_Z = df_AQ['NH3_Z']/rt\n",
    "F_NH3_Z.columns = ['F_NH3_Z']\n"
   ]
  },
  {
   "cell_type": "code",
   "execution_count": null,
   "metadata": {},
   "outputs": [],
   "source": [
    "\n"
   ]
  },
  {
   "cell_type": "markdown",
   "metadata": {},
   "source": [
    "### 4.6 Some output options for you to tailor (figures, tables, datafiles)"
   ]
  },
  {
   "cell_type": "code",
   "execution_count": null,
   "metadata": {},
   "outputs": [],
   "source": [
    "## Check content of a data frame\n",
    "print(df_meteo.keys())\n",
    "print(df_AQ   .keys())"
   ]
  },
  {
   "cell_type": "markdown",
   "metadata": {},
   "source": [
    "### 4.6.1 Figure with mean seasonal cycle"
   ]
  },
  {
   "cell_type": "code",
   "execution_count": null,
   "metadata": {},
   "outputs": [],
   "source": [
    "## Figure with mean seasonal cycle\n",
    "\n",
    "# Calculate the inter-annual seasonal variability for all three stations. \n",
    "# Inter-annual seasonal variability can be calculated as a mean of all e.g., Januaries in our time series,\n",
    "# or as a mean of all e.g., first weeks of the year.\n",
    "df_mean_seasonal = df_AQ.groupby( 2*((df_AQ.index.week-1)//2 + 1)).mean()\n",
    "\n",
    "# Plot the result (multi-year seasonal variability) for all three stations \n",
    "# (Wekerom in orange, Vredepeel in blue and Zegveld in green). \n",
    "# Plot Time [weeks] on x-axis and Concentration [um/m^3] on y-axis.\n",
    "fig1 = df_mean_seasonal.iplot(asFigure=True, xTitle=\"Time [weeks]\", yTitle=\"Concentration [ug/m3]\", width=2)\n",
    "fig1.show()"
   ]
  },
  {
   "cell_type": "markdown",
   "metadata": {},
   "source": [
    "### 4.6.2 Figure with mean diurnal cycle"
   ]
  },
  {
   "cell_type": "code",
   "execution_count": null,
   "metadata": {},
   "outputs": [],
   "source": [
    "## Mean diurnal cycle\n",
    "\n",
    "# Calculate the multi-year daily variability in NH3 concentration for June and December for all three stations.\n",
    "# Multi-year daily variability is calculated as a mean of all days in all \n",
    "# e.g., Junes and Decembers of all years in our time series.\n",
    "# First, we extract June and December from our time series.\n",
    "df_AQ_jun = df_AQ.loc[(df_AQ.index.month==6 )]\n",
    "df_AQ_dec = df_AQ.loc[(df_AQ.index.month==12)]\n",
    "\n",
    "# Next, we calculate the daily variability.\n",
    "df_mean_jun_daily = df_AQ_jun.groupby([df_AQ_jun.index.hour]).mean()\n",
    "df_mean_dec_daily = df_AQ_dec.groupby([df_AQ_dec.index.hour]).mean()\n",
    "\n",
    "# Finally, we set up the new data (i.e., the daily variabilities) in a new matrix.\n",
    "df_mean_jun_dec = pd.concat([df_mean_jun_daily, df_mean_dec_daily], axis=1, sort=False)\n",
    "df_mean_jun_dec.columns = ['NH3_W_J', 'NH3_V_J', 'NH3_Z_J', 'NH3_W_D', 'NH3_V_D', 'NH3_Z_D']\n",
    "\n",
    "# Plot the result (multi-year daily variability for June and December) for all three stations \n",
    "# (Wekerom in orange, Vredepeel in blue and Zegveld in green). \n",
    "# Results for June are given with solid lines and results for December with dotted lines. \n",
    "# Plot Time [hours] on x-axis and Concentration [um/m^3] on y-axis. \n",
    "fig2 = df_mean_jun_dec.iplot(asFigure=True, xTitle=\"Time [hours]\", yTitle=\"Concentration [um/m3]\", \n",
    "    colors=['orange', 'blue', 'green', 'orange', 'blue', 'green'], \n",
    "    dash=['solid', 'solid', 'solid', 'dot', 'dot', 'dot'], width=2)\n",
    "fig2.show()"
   ]
  },
  {
   "cell_type": "markdown",
   "metadata": {},
   "source": [
    "### 4.6.3 Table with annual means"
   ]
  },
  {
   "cell_type": "code",
   "execution_count": null,
   "metadata": {},
   "outputs": [],
   "source": [
    "## Table with annual means\n",
    "\n",
    "# Fill in the variables you want to output.\n",
    "df_output = pd.concat([F_NH3_W, F_NH3_V, F_NH3_Z],axis=1, sort=False)\n",
    "df_output.columns = ['F_NH3_W','F_NH3_V', 'F_NH3_Z']\n",
    "output = df_output[['F_NH3_W','F_NH3_V', 'F_NH3_Z']].groupby([df_output[['F_NH3_W']].index.year]).mean()\n",
    "print(output)"
   ]
  },
  {
   "cell_type": "markdown",
   "metadata": {},
   "source": [
    "### 4.6.4 Save output as a csv file"
   ]
  },
  {
   "cell_type": "code",
   "execution_count": null,
   "metadata": {},
   "outputs": [],
   "source": [
    "## Save flux data to csv file\n",
    "\n",
    "# I recommend to try and make the figure in this Notebook\n",
    "# - if you change anything in the notebook, you only need to run the cell to update the figure\n",
    "# - in Excel you need to reimport the data and make the figure all over again.\n",
    "# - anyway, you may output the data in the following way:\n",
    "df_output.to_csv('../Data_IntegrationCourseSWA/MyOutput.csv', sep=';')\n",
    "\n",
    "print('You can find the file in the filemanager in the folder \\\"Data_IntegrationCourseSWA\\\".')"
   ]
  },
  {
   "cell_type": "code",
   "execution_count": null,
   "metadata": {},
   "outputs": [],
   "source": []
  }
 ],
 "metadata": {
  "kernelspec": {
   "display_name": "Python 3",
   "language": "python",
   "name": "python3"
  },
  "language_info": {
   "codemirror_mode": {
    "name": "ipython",
    "version": 3
   },
   "file_extension": ".py",
   "mimetype": "text/x-python",
   "name": "python",
   "nbconvert_exporter": "python",
   "pygments_lexer": "ipython3",
   "version": "3.7.3"
  }
 },
 "nbformat": 4,
 "nbformat_minor": 2
}
