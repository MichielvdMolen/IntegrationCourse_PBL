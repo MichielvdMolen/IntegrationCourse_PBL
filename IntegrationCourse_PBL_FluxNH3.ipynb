{
 "cells": [
  {
   "cell_type": "markdown",
   "metadata": {},
   "source": [
    "# Introduction\n",
    "\n",
    "Below is a 'clean' version of the Jupyter Notebook used in Basic Skills Air Quality. You can use it if you want to work with ammonia deposition on a land or water surface.\n",
    "\n",
    "In your application, consider the following points:\n",
    "1. Summarise the methods in your PBL report\n",
    "2. Document all choices you make with respect to parameter settings and processes included (or omitted)\n",
    "3. Remember that a model is 'just' a set of numerical rules. You have to interpret the results considering meaning, reliability, accuracy\n",
    "4. Consider which parameters or processes may be most sensitive and/or unreliable and test how sensitive the model is to those. Document the sensitivity as a confidence interval: in which interval are you confident that the model results will be?\n",
    "5. **NEVER** weaken your report by writing things like: 'Due to uncertainty in x, the model results are uncertain.' In this way you entirely undermine your model results. **Instead**, document how reliable the model is in terms of a confidence interval (see point 4).\n",
    "\n",
    "## Things to check:\n",
    "- did you use the correct parameters for your land use type (parameterisations for $r_a$ and $r_c$?\n",
    "- how about implementing stability corrections for $r_a$ (see MAQ10306 Introduction Atmosphere)?\n",
    "- how about implementing stress functions F2, F3 and F4 for $r_c$?"
   ]
  },
  {
   "cell_type": "markdown",
   "metadata": {},
   "source": [
    "### 1. Load Python modules"
   ]
  },
  {
   "cell_type": "code",
   "execution_count": null,
   "metadata": {},
   "outputs": [],
   "source": [
    "# Load necessary python packages.\n",
    "import sys\n",
    "!{sys.executable} -m pip install cufflinks > /dev/null; # Remove > /dev/null in case of errors.\n",
    "\n",
    "from ipywidgets import interact\n",
    "import numpy as np\n",
    "import matplotlib.pyplot as plt\n",
    "import pandas as pd\n",
    "import cufflinks as cf\n",
    "import plotly.express as px\n",
    "\n",
    "# (Ignore the pip version warning)"
   ]
  },
  {
   "cell_type": "markdown",
   "metadata": {},
   "source": [
    "### 2. Load input data"
   ]
  },
  {
   "cell_type": "code",
   "execution_count": null,
   "metadata": {},
   "outputs": [],
   "source": [
    "# Load the values of nitrogen NH3 concentration for three different stations (Wekerom, Vredepeel and Zegveld). \n",
    "# Data are loaded as hourly values in ug/m3.\n",
    "# N.B.: Do not try to hard to understand all of the code. We will mention which parts are important to understand.\n",
    "\n",
    "df_Wekerom = pd.read_csv('../Data_IntegrationCourseSWA/Data_AQ_Wekerom_2013-2019.csv', sep=';', \n",
    "    index_col='date-time', usecols=['date-time', 'NH3'], parse_dates=['date-time'])\n",
    "df_Wekerom.columns = ['NH3_W']\n",
    "\n",
    "df_Vredepeel = pd.read_csv('../Data_IntegrationCourseSWA/Data_AQ_Vredepeel_2013-2019.csv', sep=';', \n",
    "    index_col='date-time', usecols=['date-time', 'NH3'], parse_dates=['date-time'])\n",
    "df_Vredepeel.columns = ['NH3_V']\n",
    "\n",
    "df_Zegveld = pd.read_csv('../Data_IntegrationCourseSWA/Data_AQ_Zegveld_2013-2019.csv', sep=';', \n",
    "    index_col='date-time', usecols=['date-time', 'NH3'], parse_dates=['date-time'])\n",
    "df_Zegveld.columns = ['NH3_Z']\n",
    "\n",
    "# Save the data from Wekerom, Vredepeel and Zegveld in the same data frame.\n",
    "df_AQ = pd.concat([df_Wekerom, df_Vredepeel, df_Zegveld], axis=1, sort=False)"
   ]
  },
  {
   "cell_type": "code",
   "execution_count": null,
   "metadata": {},
   "outputs": [],
   "source": [
    "# Load the meteorological data. \n",
    "# Load the velocity (u; m/s), global radiation (Rg; W/m^2), rain (Rain; mm), rain in the last three hours \n",
    "# (Rain_last3h; mm) and leaf area index (LAI; m^2/m^2).\n",
    "df_meteo = pd.read_csv('../Data_IntegrationCourseSWA/Data_Meteo_Veenkampen_2013-2019.csv', sep=';', \n",
    "    index_col='date-time', usecols=['date-time','Rg','Ta','RH','u','P','smc_065','smc_125','smc_250','smc_500'],\n",
    "                           parse_dates=['date-time'])\n",
    "df_meteo.columns = ['Rg','Ta','RH','u','P','smc_065','smc_125','smc_250','smc_500']\n",
    "\n",
    "# Units:\n",
    "# Rg:   W/m2   Global radiation\n",
    "# Ta:   oC     Air temperature at 2m\n",
    "# RH:   %      Relative humidity\n",
    "# u:    m/s    Wind speed at 10 m\n",
    "# P:    mm/hr  Precipitation\n",
    "# smc_* m3 water/m3 soil Soil moisture content at depth in mm"
   ]
  },
  {
   "cell_type": "markdown",
   "metadata": {},
   "source": [
    "### 3. Physical constants and model parameters"
   ]
  },
  {
   "cell_type": "code",
   "execution_count": null,
   "metadata": {},
   "outputs": [],
   "source": [
    "### Constants and Parameter Settings\n",
    "#--- Collect all settings here to keep overview\n",
    "\n",
    "### Physical constants\n",
    "\n",
    "Rd         = 287.    # J/kg K Gas constant for dry air\n",
    "Rv         = 462.    # J/kg K Gas constant for water vapour\n",
    "p0         = 101.3   # kPa     Mean Air pressure at sea level\n",
    "\n",
    "#--- Model parameters -------------------------------------------------------------------------------\n",
    "# Set the constants needed for calculation of resistances for your land use type \n",
    "# in Kumar et al. (2001): https://link.springer.com/article/10.1007%2Fs10546-010-9559-z, Table 1; \n",
    "#----------------------------------------------------------------------------------------------------\n",
    "\n",
    "#--- Parameters for r_a\n",
    "k          = 0.4     # - Von Karman constant\n",
    "z          = 10.     # m Reference height\n",
    "zd         = 0.0     # m Displacement height\n",
    "z0         = 0.0001  # m Roughness length Water\n",
    "\n",
    "#--- Parameters for r_c\n",
    "rcmin      = 40.0    # s/m    Minimum canopy resistance, when the stomates are fully open.\n",
    "Rgl        = 100.0   # W/m2   Sensitivity to global radiation\n",
    "LAI        = 2.0     # m2/m2  Leaf Area Index (in case of constant LAI, see 4.3.1)\n",
    "rcmax      = 10000.  # s/m    Maximum canopy resistance, when the stomates are closed.\n",
    "hs         = 47.35   # -      Sensitivity of rc to water vapor deficit\n",
    "Tref       = 25.   # oC    Optimal temperature for photosynthesis\n",
    "theta_wilt = 0.047 # m3/m3 Soil moisture content at wilting point\n",
    "theta_ref  = 0.800 # m3/m3 Soil moisture content at field capacity\n",
    "d1         = 0.095 # m     Thickness of soil layer 1\n",
    "d2         = 0.093 # m     Thickness of soil layer 2\n",
    "d3         = 0.188 # m     Thickness of soil layer 3\n",
    "d4         = 0.200 # m     Thickness of soil layer 4\n",
    "dtot       = 0.576 # m     total thickness of soil layer\n",
    "\n",
    "\n",
    "#--- Calculate saturation vapor pressure and saturation water vapour mixing ratio\n",
    "es0        = 0.6107   # kPa \n",
    "a          = 7.5      # -   a  parameter in Clausius-Clapeyron equation\n",
    "b          = 237.3    # oC  b  parameter in Clausius-Clapeyron equation\n",
    "es         = es0*10**(a*(df_meteo['Ta'])/(b+df_meteo['Ta']))   # kPa   Saturation vapor pressure\n",
    "qs         = Rd/Rv * es / p0                                   # kg/kg Saturation vapor mixing ratio\n",
    "\n",
    "#--- Calculate actual mixing ratio\n",
    "qa         = df_meteo['RH']*qs / 100  # kg/kg actual water vapour mixing ratio\n"
   ]
  },
  {
   "cell_type": "markdown",
   "metadata": {},
   "source": [
    "# 4. NH3 deposition"
   ]
  },
  {
   "cell_type": "markdown",
   "metadata": {},
   "source": [
    "### 4.1 $r_a$: Aerodynamical resistance"
   ]
  },
  {
   "cell_type": "code",
   "execution_count": null,
   "metadata": {},
   "outputs": [],
   "source": [
    "# Calculate the aerodynamical resistance. \n",
    "# 2. Calculate the aerodynamical resistance based on the formula given in section 3.1.\n",
    "ra = (np.log((z-zd)/z0))**2/(k**2*df_meteo['u'])"
   ]
  },
  {
   "cell_type": "markdown",
   "metadata": {},
   "source": [
    "### 4.2 $r_b$: Boundary layer resistance"
   ]
  },
  {
   "cell_type": "code",
   "execution_count": null,
   "metadata": {},
   "outputs": [],
   "source": [
    "rb = 5."
   ]
  },
  {
   "cell_type": "markdown",
   "metadata": {},
   "source": [
    "### 4.3 $r_c$: Canopy resistance\n",
    "<font color=\"blue\">\n",
    "Below you will find the formulation of the canopy resistance $r_c$ as in Basic Skills Air Quality. You may remember that we did a rather simplistic approach. Therefore we suggest a few extensions on how you can make the model more realistic. These are in <font color=\"blue\">blue</font>.\n",
    "\n",
    "### 4.3.1 Extension 1: Variable LAI\n",
    "In the Basic Skills Air Quality, we used a constant LAI. In reality however, the LAI of most vegetation types changes (except evergreen needleleaf trees) with the seasons, and this has a large impact on the $r_c$. Here we suggest a way to prescribe a variable LAI.\n",
    "\n",
    "In the summer season, the $LAI$ and NH$_3$ concentrations are larger than in the winter period. So there is a correlation between $r_c$ = f($LAI$) and $F_{NH_3}$. Omitting this could introduce a considerable error in the ammonia deposition flux. To account for variable $LAI$, you may implement a seasonal cycle in the $LAI$, using a cosine function as:\n",
    "\n",
    "\\begin{equation}\n",
    "LAI_t = A_{LAI}+A_{LAI}\\cos\\Bigg(\\frac{2\\pi(t-t_{LAI,max})}{365}\\Bigg)\n",
    "\\end{equation}\n",
    "\n",
    "where $A_{LAI}$ (m$^2$m$^{-2}$)is the amplitude, $t$ (day) refers to the day of year and $t_{LAI,max}$ is the time (a day in a year) when the $LAI$ is the largest. Since the cosine part of the function varies between – $A_{LAI}$ and + $A_{LAI}$, we add one time $A_{LAI}$ to force the function to be positive. The $LAI$ thus varies between 0 and 2$A_{LAI}$. The 365 represents an annual cycle. \n",
    "\n",
    "Of course you can change the formulation any way you like (e.g. modify the amplitude or mean value or even introduce a sawtooth shape to simulating periodic mowing).\n",
    "\n",
    "If introducing a variable LAI is important for you, please \n",
    "- change 'if False:' to 'if True:'\n",
    "- review the formulation below\n",
    "- inspect the figure to see if it the LAI is like you want it.\n",
    "</font>"
   ]
  },
  {
   "cell_type": "code",
   "execution_count": null,
   "metadata": {},
   "outputs": [],
   "source": [
    "### 4.3.1 Extension 1: Variable LAI\n",
    "# Determine the amplitude of $LAI$ for the cosine function for your chosen vegetation type.\n",
    "if False:\n",
    "    A_lai     = 2.   # m2/m2 Amplitude of seasonal LAI\n",
    "    t_lai_max = 181. # doy   The day of year with the largest LAI\n",
    "  \n",
    "    # Calculate the periodic (cosine) change in the $LAI$.\n",
    "    df_meteo['LAI'] = A_lai + A_lai*np.cos(2.*np.pi*(df_meteo.index.dayofyear - t_lai_max) / 365.)\n",
    "          \n",
    "else:  # This is the default option with constant LAI as you initialised it in cel In [4]\n",
    "    df_meteo['LAI'] = np.ones(len(df_meteo)) * LAI \n",
    "    \n",
    "# Calculate the inter-annual seasonal variability of LAI\n",
    "# Inter-annual seasonal variability can be calculated as a mean of all e.g., Januaries in our time series,\n",
    "# or as a mean of all e.g., first weeks of the year.\n",
    "LAI_seasonal = df_meteo['LAI'].groupby( 2*((df_meteo.index.week-1)//2 + 1)).mean()\n",
    "  \n",
    "# Plot the result (mean seasonal variability)\n",
    "# Plot Time [weeks] on x-axis and LAI [m^2/m^2] on y-axis.\n",
    "fig0 = LAI_seasonal.iplot(asFigure=True, xTitle=\"Time [weeks]\", yTitle=\"LAI [m2/m2]\", width=2)\n",
    "fig0.show()\n"
   ]
  },
  {
   "cell_type": "markdown",
   "metadata": {},
   "source": [
    "<font color=\"blue\">\n",
    "\n",
    "\n",
    "### 4.3.2 Extension 2: Stress functions for temperature, humidity and soil moisture.\n",
    "Most vegetation types change the opening of their stomates to regulate how much CO$_2$ they take from the atmosphere and how much water vapor they lose. When the stomates are open, other species, such as NH$_3$ and O$_3$, can also be exchanged. When referring to the resistance at the leaf level, we use the term stomatal resistance. For tall vegetation structures, the stomatal resistance varies between the top and lower vegetation levels. Thus, when referring to the resistance at the vegetation level we use the term canopy resistance $r_c$ (s m$^{-1}$). The canopy resistance accounts for those differences (i.e., the differences between the top and lower vegetation levels).\n",
    "\n",
    "There are two main approaches to model the canopy resistance. The first is the Jarvis approach. [Paul Jarvis](https://en.wikipedia.org/wiki/Paul_Gordon_Jarvis) (1935-2013) studied how canopy resistance responds to atmospheric conditions (e.g., vapor pressure deficit, radiation and temperature) and soil conditions (e.g., soil moisture and nutrient availability). He came up with a model formulation which assumes that each vegetation type has an intrinsic minimum resistance when the stomates are fully opened in optimal conditions. This minimum resistance is increased when the vegetation experiences stress, e.g., when the air is dry and the vegetation needs to reduce water loss. [Jarvis (1976)’s](https://royalsocietypublishing.org/doi/10.1098/rstb.1976.0035) formulation assumes that the vegetation response to each stress factor can be described by an independent multiplicative term. This makes the Jarvis approach simple to use and it also facilitates comparison between vegetation types.\n",
    "\n",
    "<font color=\"blue\">The second is the A-g$_s$ approach, where A stands for CO$_2$ assimilation and $g_s$ for canopy conductance, i.e., the inverse of canopy resistance (see e.g., [Jacobs and de Bruin, 1997](https://journals.ametsoc.org/doi/full/10.1175/1520-0450%281997%29036%3C1663%3APRTAEA%3E2.0.CO%3B2), [Ronda et al., 2001](https://journals.ametsoc.org/doi/full/10.1175/1520-0450%282001%29040%3C1431%3AROTCCI%3E2.0.CO%3B2)). This approach is based on newer scientific evidence that vegetation optimizes the stomatal resistance for the specific carbon uptake for minimal water loss. Some vegetation types respond rather different to environmental stress factors than others. For example, some species use water rather aggressively to grow faster, but at the risk of running out of water. Other species use water rather conservatively to prevent running out of water, but at the cost of growing slower (e.g., [van der Molen et al., 2010](https://www.sciencedirect.com/science/article/pii/S0168192311000517?via%3Dihub)). Taking into account the water cost of carbon uptake requires continuous integration between water availability, water loss and carbon uptake capacity of the vegetation. </font>\n",
    "\n",
    "The Jarvis approach describes the canopy resistance as a minimum canopy resistance $r_{c,min}$ (s m$^{-1}$), which applies to optimal conditions. In stressed conditions, the actual canopy resistance $r_c$ (s m$^{-1}$) is larger than the minimum, depending on the stress terms $F_1$, $F_2$, ..., $F_n$:\n",
    "\n",
    "\\begin{equation*}\n",
    "r_c = \\frac{r_{c,min}}{LAI F_1F_2...F_n}.\n",
    "\\end{equation*}\n",
    "\n",
    "The $LAI$ (m$^2$ m$^{-2}$) in the denominator is leaf-area index which implies that at each vegetation level $i$ with $LAI_i+1$, $r_c$ decreases linearly, which is arguably a simplistic approach, because lower levels may be shaded and cooler than higher layers. The stress functions $F_1$, ..., $F_n$ quantify the level of stress due to environmental processes. The stress functions are given as:\n",
    "\n",
    "\\begin{equation*}\n",
    "F_1 = \\frac{\\frac{r_{c,min}}{r_{c,max}}+f}{1+f}, \\\\\n",
    "F_2 = \\frac{1}{1+h_s[q_s(T_a)-q_a]}, \\\\\n",
    "F_3 = 1-0.0016(T_{ref}-T_a)^2, \\\\\n",
    "F_4 = \\sum_{i=1}^{n_{root}}\\frac{(\\theta_i-\\theta_{wilt})d_i}{(\\theta_{ref}-\\theta_{wilt})d_{tot}}.\n",
    "\\end{equation*}\n",
    "\n",
    "\n",
    "Here $r_{c,min}$ and $r_{c,max}$ (s m$^{-1}$) are minimum and maximum canopy resistances, respectively. We will initially work only with $F_1$ for simplicity, while neglecting $F_2$ to $F_4$. In the equation for $F_1$, $f=0.55\\frac{R_g}{R_{gl}}\\frac{2}{LAI}$, where $R_g$ (W m$^{-2}$) is global radiation, $R_{gl}$ (W m$^{-2}$) is the minimum solar radiation necessary for photosynthesis (transpiration) to occur. <font color=\"blue\">Just to be complete, we give the descriptions of $F_2$ to $F_4$ too. In the equation for $F_2$, $h_s$ (-) is a parameter associated with the water vapour deficit, $T_a$ (K) is air temperature at reference level, $q_s$ and $q_a$ (g kg$^{-1}$ or kg kg$^{-1}$) are saturation and actual water vapor mixing ratios. They can be calculated as:\n",
    "\n",
    "\\begin{equation*}\n",
    "q_s = \\frac{R_d}{R_v}\\frac{0.6107\\cdot10^{\\frac{7.5T_a}{237.3+T_a}}}{p}, \\\\\n",
    "q_a = RH\\cdot q_s,\n",
    "\\end{equation*}\n",
    "\n",
    "where $R_d = 287$ J kg$^{-1}$ K$^{-1}$ and $R_v = 462$ J kg$^{-1}$ K$^{-1}$ are the gass constants for dry air and water vapour, respectively, $p \\approx 1.1$ kPa is the air pressure at the sea level, and $RH$ (-) is the relative humidity. These parameters should be chosen in such a way that $F_2$ is a number between 1 and ~10. In the equation for $F_3$, $T_{ref}$ (K) is the optimal air temperature for photosynthesis, while $T_a$ (K) is the air temperature. Finally, in the equation for $F_4$, $\\theta$ (m$^3$ m$^{-3}$) is volumetric water content, while and $d_i$ and $d_{tot}$ (m) are the depth of soil layer i and the total root depth.</font> This formulation and a more detailed description can be found in [Kumar et al. (2001)](https://link.springer.com/article/10.1007%2Fs10546-010-9559-z). Now, let's use this approach to simulate the canopy resistance $r_c$.\n",
    "</font>"
   ]
  },
  {
   "cell_type": "code",
   "execution_count": null,
   "metadata": {},
   "outputs": [],
   "source": [
    "# Calculate f and the stress function for solar radiation F1.\n",
    "f_stress     = 0.55*(df_meteo['Rg']/Rgl)*(2./df_meteo['LAI'])\n",
    "F1           = ((rcmin/rcmax)+f_stress)/(1+f_stress)\n",
    "F1.name      = 'F1'\n",
    "\n",
    "if False:\n",
    "    # Calculate the stress function for temperature F2.\n",
    "    F2       = 1./(1.+hs*(qs-qa))\n",
    "    F2.name  = 'F2'\n",
    "\n",
    "    # Calculate the stress function for soil moisture F3. \n",
    "    F3       = 1.-0.00166*(Tref-df_meteo['Ta'])**2.\n",
    "    F3.name  = 'F3'\n",
    "\n",
    "    # Calculate F4. First define some parameters. Parameters d1, ..., d4 and dtot are defined for you.\n",
    "    denom    = (theta_ref - theta_wilt)*dtot\n",
    "    F4_1     = ((df_meteo['smc_065']-theta_wilt)) / ((theta_ref - theta_wilt))\n",
    "    F4_2     = ((df_meteo['smc_125']-theta_wilt)) / ((theta_ref - theta_wilt))\n",
    "    F4_3     = ((df_meteo['smc_250']-theta_wilt)) / ((theta_ref - theta_wilt))\n",
    "    F4_4     = ((df_meteo['smc_500']-theta_wilt)) / ((theta_ref - theta_wilt))\n",
    "    F4       = (F4_1 * d1 + F4_2 * d2 + F4_3 * d3 + F4_4 * d4) / dtot\n",
    "    F4.name  = 'F4'\n",
    "else:\n",
    "    F2       = 1.\n",
    "    F3       = 1.\n",
    "    F4       = 1.\n",
    "\n",
    "# Make sure that F4 is in the range 0-1. This is a bit tricky, because:\n",
    "# - you use smc measurements collected at the Veenkampen, where smc can be pretty high\n",
    "# - if you set theta_wilt (wilting point ) to a value higher than the minimum smc in the measurements, F4 can become smaller than 0.\n",
    "# - if you set theta_ref  (field capacity) to a value lower  than the maximum smc in the measurements, F4 can become larger  than 1.\n",
    "# - so be careful when adapting theta_ref and theta_wilt. The theta_wilt and theta_ref can not be uncoupled from the observed smc.\n",
    "print(F4)\n"
   ]
  },
  {
   "cell_type": "code",
   "execution_count": null,
   "metadata": {},
   "outputs": [],
   "source": [
    "# Write the values of your chosen parameters using the land types given in Table 1 of Kumar et al, 2001.\n",
    "# Numbers should represent the values for the minimum canopy resistance (rcmin; s/m), minimum global radiation for\n",
    "# photosynthesis (Rgl; W/m^2), the leaf area index (LAI, m^2/m^2), and maximum canopy resistance (rcmax; s/m). \n",
    "# Please also take a look at the Python code, it may be useful to recognise what is being done here.\n",
    "\n",
    "# Calculate the canopy resistance in s/m based on the formula given in the markdown-box above.\n",
    "rc          = rcmin/(df_meteo['LAI'] *F1*F2*F3*F4)  # s/m Hourly canopy resistance, computed from the parameters supplied above.\n",
    "rc.name     = 'rc'\n",
    "\n"
   ]
  },
  {
   "cell_type": "markdown",
   "metadata": {},
   "source": [
    "<font color=\"blue\">\n",
    "    \n",
    "### 4.3.3 Wet canopy resistance\n",
    "After precipitation, the canopy is wet. Ammonia will deposit in the water on the leafs (and evaporation will be from the leaf surface instead of from the stomates). As a consequence, the stomatal resistance is bypassed ($r_c$ = 0 s m$^{-1}$). You may test how important this is by implementing this process.\n",
    "\n",
    "In practise it is difficult to tell how long the canopy will remain wet. This depends on the canopy, the LAI, the temperature and the global radiation. But let's keep things simple for now, we assume the canopy remains wet until 3 hours after the last precipitation.\n",
    "</font>"
   ]
  },
  {
   "cell_type": "code",
   "execution_count": null,
   "metadata": {},
   "outputs": [],
   "source": [
    "rc_wet      = rc.copy(deep=True)                    # Initialise rc_wet as rc: rc_wet is the same as the canopy resistance rc\n",
    "rc_wet.name = 'rc_wet'\n",
    "\n",
    "# hours when it rains\n",
    "I           = np.where(df_meteo['P'] > 0.0)[0]      # Find the index I of the   hours when P > 0.0\n",
    "rc_wet[I]   = 0.0                                   # Set rc_wet = 0 for those hours when P > 0.0\n",
    "\n",
    "# first hour after it rains\n",
    "I           = I + 1                                  # Increase the index I with 1: select the first hour after precipitation occurred\n",
    "I           = I[I < len(rc_wet)]                     # Make sure the index I cannot be longer than the length of rc_wet itself\n",
    "rc_wet[I]   = 0.0                                    # Set rc_wet = 0 for those hours when P > 0.0\n",
    "\n",
    "# second hour after it rains\n",
    "I           = I + 1                                  # Increase the index I with 1: select the second hour after precipitation occurred\n",
    "I           = I[I < len(rc_wet)]                     # Make sure the index I cannot be longer than the length of rc_wet itself\n",
    "rc_wet[I]   = 0.0                                    # Set rc_wet = 0 for those hours when P > 0.0\n",
    "\n",
    "# third hour after it rains\n",
    "I           = I + 1                                  # Increase the index I with 1: select the third hour after precipitation occurred\n",
    "I           = I[I < len(rc_wet)]                     # Make sure the index I cannot be longer than the length of rc_wet itself\n",
    "rc_wet[I]   = 0.0                                    # Set rc_wet = 0 for those hours when P > 0.0\n",
    "\n",
    "# Check out if it works\n",
    "output = pd.concat([df_meteo['P'],rc,rc_wet],axis=1,sort=False)\n",
    "I           = np.where(df_meteo['P'] > 0.0)[0]       # Find the instances when it rains   \n",
    "i           = I[10]                                  # Find the 10th instance (just a choice) in the time series when it rains\n",
    "print(output.iloc[i-10:i+10])"
   ]
  },
  {
   "cell_type": "markdown",
   "metadata": {},
   "source": [
    "### 4.4 $r_t$: Total resistance\n",
    "\n",
    "N.B.: Water surfaces do not have stomates and their $r_c$ = 0 s/m. Make sure you edit the following lines accordingly by setting rc = 0.0 or $r_t$ = $r_a$ + $r_b$\n",
    "\n",
    "Additionally, you may need to replace $r_c$ with $r_{c,wet}$, if you want to account for zero stomatal conductance until a few hours after it rains."
   ]
  },
  {
   "cell_type": "code",
   "execution_count": null,
   "metadata": {},
   "outputs": [],
   "source": [
    "#--- Calculate the total conductance from ra, rb and rc or rc_wet (replace the symbol yourself)\n",
    "rt = ra + rb + rc"
   ]
  },
  {
   "cell_type": "markdown",
   "metadata": {},
   "source": [
    "### 4.5 $F_{NH_3}$: Ammonia deposition flux"
   ]
  },
  {
   "cell_type": "code",
   "execution_count": null,
   "metadata": {},
   "outputs": [],
   "source": [
    "# Calculate the dry deposition rate (F_NH3; ug/m^2/s) using a gradient-resistance model for all three stations,\n",
    "# i.e., for Wekerom, Vredepeel and Zegveld.\n",
    "F_NH3_W = df_AQ['NH3_W']/rt\n",
    "F_NH3_W.columns = ['F_NH3_W']\n",
    "\n",
    "F_NH3_V = df_AQ['NH3_V']/rt\n",
    "F_NH3_V.columns = ['F_NH3_V']\n",
    "\n",
    "F_NH3_Z = df_AQ['NH3_Z']/rt\n",
    "F_NH3_Z.columns = ['F_NH3_Z']\n"
   ]
  },
  {
   "cell_type": "code",
   "execution_count": null,
   "metadata": {},
   "outputs": [],
   "source": [
    "\n"
   ]
  },
  {
   "cell_type": "markdown",
   "metadata": {},
   "source": [
    "### 4.6 Some output options for you to tailor (figures, tables, datafiles)"
   ]
  },
  {
   "cell_type": "code",
   "execution_count": null,
   "metadata": {},
   "outputs": [],
   "source": [
    "## Check content of a data frame\n",
    "print(df_meteo.keys())\n",
    "print(df_AQ   .keys())"
   ]
  },
  {
   "cell_type": "markdown",
   "metadata": {},
   "source": [
    "### 4.6.1 Figure with mean seasonal cycle"
   ]
  },
  {
   "cell_type": "code",
   "execution_count": null,
   "metadata": {},
   "outputs": [],
   "source": [
    "## Figure with mean seasonal cycle\n",
    "\n",
    "# Calculate the inter-annual seasonal variability for all three stations. \n",
    "# Inter-annual seasonal variability can be calculated as a mean of all e.g., Januaries in our time series,\n",
    "# or as a mean of all e.g., first weeks of the year.\n",
    "df_mean_seasonal = df_AQ.groupby( 2*((df_AQ.index.week-1)//2 + 1)).mean()\n",
    "\n",
    "# Plot the result (multi-year seasonal variability) for all three stations \n",
    "# (Wekerom in orange, Vredepeel in blue and Zegveld in green). \n",
    "# Plot Time [weeks] on x-axis and Concentration [um/m^3] on y-axis.\n",
    "fig1 = df_mean_seasonal.iplot(asFigure=True, xTitle=\"Time [weeks]\", yTitle=\"Concentration [ug/m3]\", width=2)\n",
    "fig1.show()"
   ]
  },
  {
   "cell_type": "markdown",
   "metadata": {},
   "source": [
    "### 4.6.2 Figure with mean diurnal cycle"
   ]
  },
  {
   "cell_type": "code",
   "execution_count": null,
   "metadata": {},
   "outputs": [],
   "source": [
    "## Mean diurnal cycle\n",
    "\n",
    "# Calculate the multi-year daily variability in NH3 concentration for June and December for all three stations.\n",
    "# Multi-year daily variability is calculated as a mean of all days in all \n",
    "# e.g., Junes and Decembers of all years in our time series.\n",
    "# First, we extract June and December from our time series.\n",
    "df_AQ_jun = df_AQ.loc[(df_AQ.index.month==6 )]\n",
    "df_AQ_dec = df_AQ.loc[(df_AQ.index.month==12)]\n",
    "\n",
    "# Next, we calculate the daily variability.\n",
    "df_mean_jun_daily = df_AQ_jun.groupby([df_AQ_jun.index.hour]).mean()\n",
    "df_mean_dec_daily = df_AQ_dec.groupby([df_AQ_dec.index.hour]).mean()\n",
    "\n",
    "# Finally, we set up the new data (i.e., the daily variabilities) in a new matrix.\n",
    "df_mean_jun_dec = pd.concat([df_mean_jun_daily, df_mean_dec_daily], axis=1, sort=False)\n",
    "df_mean_jun_dec.columns = ['NH3_W_J', 'NH3_V_J', 'NH3_Z_J', 'NH3_W_D', 'NH3_V_D', 'NH3_Z_D']\n",
    "\n",
    "# Plot the result (multi-year daily variability for June and December) for all three stations \n",
    "# (Wekerom in orange, Vredepeel in blue and Zegveld in green). \n",
    "# Results for June are given with solid lines and results for December with dotted lines. \n",
    "# Plot Time [hours] on x-axis and Concentration [um/m^3] on y-axis. \n",
    "fig2 = df_mean_jun_dec.iplot(asFigure=True, xTitle=\"Time [hours]\", yTitle=\"Concentration [um/m3]\", \n",
    "    colors=['orange', 'blue', 'green', 'orange', 'blue', 'green'], \n",
    "    dash=['solid', 'solid', 'solid', 'dot', 'dot', 'dot'], width=2)\n",
    "fig2.show()"
   ]
  },
  {
   "cell_type": "markdown",
   "metadata": {},
   "source": [
    "### 4.6.3 Table with annual means"
   ]
  },
  {
   "cell_type": "code",
   "execution_count": null,
   "metadata": {},
   "outputs": [],
   "source": [
    "## Table with annual means\n",
    "\n",
    "# Fill in the variables you want to output.\n",
    "df_output = pd.concat([F_NH3_W, F_NH3_V, F_NH3_Z],axis=1, sort=False)\n",
    "df_output.columns = ['F_NH3_W','F_NH3_V', 'F_NH3_Z']\n",
    "output = df_output[['F_NH3_W','F_NH3_V', 'F_NH3_Z']].groupby([df_output[['F_NH3_W']].index.year]).mean()\n",
    "print(output)"
   ]
  },
  {
   "cell_type": "markdown",
   "metadata": {},
   "source": [
    "### 4.6.4 Save output as a csv file"
   ]
  },
  {
   "cell_type": "code",
   "execution_count": null,
   "metadata": {},
   "outputs": [],
   "source": [
    "## Save flux data to csv file\n",
    "\n",
    "# I recommend to try and make the figure in this Notebook\n",
    "# - if you change anything in the notebook, you only need to run the cell to update the figure\n",
    "# - in Excel you need to reimport the data and make the figure all over again.\n",
    "# - anyway, you may output the data in the following way:\n",
    "df_output.to_csv('../Data_IntegrationCourseSWA/FluxNH3.csv', sep=';')\n",
    "\n",
    "print('You can find the file in the filemanager (previous window) in the folder \\\"Data_IntegrationCourseSWA\\\".')"
   ]
  },
  {
   "cell_type": "markdown",
   "metadata": {},
   "source": [
    "## 5.0 Close the notebook\n",
    "\n",
    "Now, to limit the data storage please do the following:\n",
    "- go to *KERNEL* --> *RESTART and CLEAR OUTPUT*. This removes the interactive graphs from your notebook, but leaves your answers intact.\n",
    "- go to *FILE* --> *SAVE and CHECKPOINT*. This saves your answers in the notebook\n",
    "- go to *FILE* --> *CLOSE and HALT*, to shutdown the notebook. You can always come back later and restart."
   ]
  },
  {
   "cell_type": "code",
   "execution_count": null,
   "metadata": {},
   "outputs": [],
   "source": []
  }
 ],
 "metadata": {
  "kernelspec": {
   "display_name": "Python 3",
   "language": "python",
   "name": "python3"
  },
  "language_info": {
   "codemirror_mode": {
    "name": "ipython",
    "version": 3
   },
   "file_extension": ".py",
   "mimetype": "text/x-python",
   "name": "python",
   "nbconvert_exporter": "python",
   "pygments_lexer": "ipython3",
   "version": "3.7.3"
  }
 },
 "nbformat": 4,
 "nbformat_minor": 2
}
